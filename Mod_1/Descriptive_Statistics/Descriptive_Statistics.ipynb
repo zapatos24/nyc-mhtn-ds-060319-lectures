{
 "cells": [
  {
   "cell_type": "markdown",
   "metadata": {
    "slideshow": {
     "slide_type": "slide"
    }
   },
   "source": [
    "\n",
    "# Starting off"
   ]
  },
  {
   "cell_type": "markdown",
   "metadata": {
    "slideshow": {
     "slide_type": "fragment"
    }
   },
   "source": [
    "Below is a list of weights(kg) of 10 male subjects. How can you describe this data set to another person?\n",
    "\n",
    "\n",
    "```[55, 56, 56, 58, 60, 61, 63, 64, 70, 78]```"
   ]
  },
  {
   "cell_type": "markdown",
   "metadata": {
    "slideshow": {
     "slide_type": "slide"
    }
   },
   "source": [
    "# Introducing Statistics: Measures of Central Tendency , Disperson, and Correlation"
   ]
  },
  {
   "cell_type": "markdown",
   "metadata": {
    "slideshow": {
     "slide_type": "subslide"
    }
   },
   "source": [
    "## Aim:\n",
    "- Be able to describe a large sample of data in a meaningful way that conveys information.\n",
    "\n",
    "- Be able to describe how two sets of data are related to each other\n",
    "\n",
    "- Write functions to calculate the Descriptive statistics of a data set. \n"
   ]
  },
  {
   "cell_type": "markdown",
   "metadata": {
    "slideshow": {
     "slide_type": "slide"
    }
   },
   "source": [
    "A **population** is the collection of **all** people, plants, animals, or objects of interest about which we wish to make statistical inferences (generalizations). \n",
    "\n",
    "A **population parameter** is a numerical characteristic of a population. In nearly all statistical problems we do not know the value of a parameter because we do not measure the entire population. We use sample data to make an inference about the value of a parameter."
   ]
  },
  {
   "cell_type": "markdown",
   "metadata": {
    "slideshow": {
     "slide_type": "subslide"
    }
   },
   "source": [
    "\n",
    "\n",
    "A **sample** is the subset of the population that we actually measure or observe.\n",
    "\n",
    "A **sample statistic is** a numerical characteristic of a sample. A sample statistic estimates the unknown value of a population parameter. Information collected from sample statistic is sometimes refered to as Descriptive Statistic."
   ]
  },
  {
   "cell_type": "markdown",
   "metadata": {
    "slideshow": {
     "slide_type": "subslide"
    }
   },
   "source": [
    " Here are the Notations that will be used:\n",
    "\n",
    "$X_{ij}$ = Observation for variable *j* in subject *i* .\n",
    "\n",
    "$p$ \n",
    " = Number of variables\n",
    "\n",
    "$n$\n",
    " = Number of subjects\n",
    "\n",
    "In the example to come, we'll have data on 737 people (subjects) and 5 nutritional outcomes (variables). So, \n",
    "\n",
    "$p$\n",
    " = 5 variables\n",
    "\n",
    "$n$\n",
    " = 737 subjects\n",
    "\n",
    "\n",
    "\n"
   ]
  },
  {
   "cell_type": "markdown",
   "metadata": {
    "slideshow": {
     "slide_type": "subslide"
    }
   },
   "source": [
    "In multivariate statistics we will always be working with vectors of observations. So in this case we are going to arrange the data for the p variables on each subject into a vector. In the expression below, \n",
    "$X_i$ is the vector of observations for the $i^{th}$ subject, $i$ = 1 to $n$(737). Therefore, the data for the $j^{th}$ variable will be located in the $j^{th}$ element of this subject's vector, $j$ = 1 to $p$(5).\n",
    "\n",
    "\n",
    "$$\\mathbf{X}_i = \\left(\\begin{array}{l}X_{i1}\\\\X_{i2}\\\\ \\vdots \\\\ X_{ip}\\end{array}\\right)$$"
   ]
  },
  {
   "cell_type": "markdown",
   "metadata": {
    "slideshow": {
     "slide_type": "slide"
    }
   },
   "source": [
    "## Measures of Central Tendency\n",
    "\n"
   ]
  },
  {
   "cell_type": "markdown",
   "metadata": {
    "slideshow": {
     "slide_type": "subslide"
    }
   },
   "source": [
    "### Mean\n",
    "Mean or average is the value obtained by dividing the sum of all the data by the total number of data points.\n",
    "\n",
    "\n",
    "<img src='https://wikimedia.org/api/rest_v1/media/math/render/svg/4e3313161244f8ab61d897fb6e5fbf6647e1d5f5' />"
   ]
  },
  {
   "cell_type": "markdown",
   "metadata": {
    "slideshow": {
     "slide_type": "slide"
    }
   },
   "source": [
    "## Mathematically Speaking\n"
   ]
  },
  {
   "cell_type": "markdown",
   "metadata": {
    "slideshow": {
     "slide_type": "fragment"
    }
   },
   "source": [
    "Throughout this course, we’ll use the ordinary notations for the mean of a variable. \n",
    "\n",
    "That is, the symbol $\\mu$ is used to represent a (theoretical) population mean and the symbol $\\bar{x}$ is used to represent a sample mean computed from observed data. \n",
    "\n",
    "In the multivariate setting, we add subscripts to these symbols to indicate the specific variable for which the mean is being given. For instance, $\\mu_1$ represents the population mean for variable \n",
    "$x_1$ and \n",
    "$\\bar{x}$\n",
    " denotes a sample mean based on observed data for variable \n",
    "$\\bar{x}_1$\n",
    ".\n",
    "\n"
   ]
  },
  {
   "cell_type": "markdown",
   "metadata": {
    "slideshow": {
     "slide_type": "subslide"
    }
   },
   "source": [
    "The population mean is the measure of central tendency for the population. Here, the population mean for variable $j$ is:\n",
    "\n",
    "$$\\mu_j = E(X_{ij})$$\n",
    "\n",
    "and the sample mean for variable $j$ is:\n",
    "\n",
    "$$\\bar{x}_j = \\frac{1}{n}\\sum_{i=1}^{n}X_{ij}$$"
   ]
  },
  {
   "cell_type": "markdown",
   "metadata": {
    "slideshow": {
     "slide_type": "subslide"
    }
   },
   "source": [
    "### Median\n",
    "\n",
    "In a set with odd number of data points the median is the middlemost value while if the number of data points is even then it is the average of the two middle items.\n",
    "\n",
    "In the previous set since the number of data is 10 (even) the 5th and 6th item correspond to the middle data items.\n",
    "\n",
    "\n",
    "<img src='https://wikimedia.org/api/rest_v1/media/math/render/svg/da59c1e963f56160361fcce819a95f351748630a' />"
   ]
  },
  {
   "cell_type": "markdown",
   "metadata": {
    "slideshow": {
     "slide_type": "subslide"
    }
   },
   "source": [
    "### Mode\n",
    "\n",
    "Mode refers the data item that occurs most frequently in a given data set."
   ]
  },
  {
   "cell_type": "markdown",
   "metadata": {
    "slideshow": {
     "slide_type": "subslide"
    }
   },
   "source": [
    "### Questions:\n",
    "\n",
    "-When would median be a better measure of central tendency than mean?\n",
    "\n",
    "-When is mode the best measure of central tendency to use?"
   ]
  },
  {
   "cell_type": "markdown",
   "metadata": {
    "slideshow": {
     "slide_type": "subslide"
    }
   },
   "source": [
    "Questions:\n",
    "\n",
    "\n",
    "1. We want to calculate the mean, median, and mode for the above list of numbers.Please write a function to calculate each of those statistics.\n",
    "\n"
   ]
  },
  {
   "cell_type": "code",
   "execution_count": 1,
   "metadata": {
    "slideshow": {
     "slide_type": "fragment"
    }
   },
   "outputs": [],
   "source": [
    "data = [55, 56, 56, 58, 60, 61, 63, 64, 70, 78]"
   ]
  },
  {
   "cell_type": "code",
   "execution_count": 55,
   "metadata": {},
   "outputs": [
    {
     "data": {
      "text/plain": [
       "62.1"
      ]
     },
     "execution_count": 55,
     "metadata": {},
     "output_type": "execute_result"
    }
   ],
   "source": [
    "def calc_mean(data):\n",
    "    adds = 0\n",
    "    for d in data:\n",
    "        adds += float(d)\n",
    "    return adds / len(data)\n",
    "\n",
    "calc_mean(data)"
   ]
  },
  {
   "cell_type": "code",
   "execution_count": 46,
   "metadata": {},
   "outputs": [
    {
     "data": {
      "text/plain": [
       "60"
      ]
     },
     "execution_count": 46,
     "metadata": {},
     "output_type": "execute_result"
    }
   ],
   "source": [
    "def calc_median(data):\n",
    "    if len(data) % 2 == 0:\n",
    "        return [data[int(len(data) / 2)] + data[int(len(data) / 2 + 1)]]\n",
    "    else:\n",
    "        return data[int(round(len(data) / 2, 0))]\n",
    "                    \n",
    "calc_median(data)\n",
    "calc_median(data[:9])"
   ]
  },
  {
   "cell_type": "code",
   "execution_count": 47,
   "metadata": {},
   "outputs": [
    {
     "data": {
      "text/plain": [
       "56"
      ]
     },
     "execution_count": 47,
     "metadata": {},
     "output_type": "execute_result"
    }
   ],
   "source": [
    "from collections import Counter\n",
    "def calc_mode(data):\n",
    "    count = Counter(data)\n",
    "    return count.most_common(1)[0][0]\n",
    "\n",
    "calc_mode(data)"
   ]
  },
  {
   "cell_type": "markdown",
   "metadata": {
    "slideshow": {
     "slide_type": "slide"
    }
   },
   "source": [
    "## Measures of Dispersion\n",
    "Measures of dispersion quantify the spread of the data. They try to measure how much variation is there among the various data points."
   ]
  },
  {
   "cell_type": "markdown",
   "metadata": {
    "slideshow": {
     "slide_type": "subslide"
    }
   },
   "source": [
    "\n",
    "\n",
    "### Range\n",
    "One simple such measure is range which is simply the difference between the largest and the smallest data item. For our previous dataset,\n",
    "\n",
    "Range = 78–55 = 23.\n",
    "\n",
    "\n",
    "\n"
   ]
  },
  {
   "cell_type": "markdown",
   "metadata": {
    "slideshow": {
     "slide_type": "subslide"
    }
   },
   "source": [
    "### InterQuantile Range - IQR\n",
    "The quartiles of a data set divides the data into four equal parts, with one-fourth of the data values in each part. The second quartile position is the median of the data set, which divides the data set in half as shown for a simple dataset below:\n",
    "\n",
    "![IQR](iqr.png)\n",
    "\n",
    "The interquartile range (IQR) is a measure of where the “middle fifty” is in a data set. Where a range is a measure of where the beginning and end are in a set, an interquartile range is a measure of where the bulk of the values lie. That’s why it’s preferred over many other measures of spread (i.e. the average or median) when reporting things like average retirement age and scores in a test etc."
   ]
  },
  {
   "cell_type": "markdown",
   "metadata": {
    "slideshow": {
     "slide_type": "subslide"
    }
   },
   "source": [
    "### Variance\n",
    "A more complex measure of dispersion is variance. The variancde of a population for variable $x_j$ is:\n",
    "\n",
    "$\\sigma_j^2 = E(x_j-u_j)^2$\n",
    "\n",
    "The population variance $\\sigma _{j}^{2}$ can be estimate by the sample variance: \n",
    "\n",
    "$s_j^2 = \\frac{1}{n-1}\\sum_{i=1}^{n}(X_{ij}-\\bar{x}_j)^2=\\frac{\\sum_{i=1}^{n}X_{ij}^2-(\\left(\\sum_{i=1}^{n}X_{ij}\\right)^2/n)}{n-1}$ \n",
    "\n",
    "Variance signifies how much the data items are deviating from mean.\n",
    "\n",
    "1) Larger variance means the data items deviate more from the mean.\n",
    "\n",
    "2) Smaller variance means the data items are closer to the mean.\n",
    "\n",
    "Now let’s calculate the variance for the previous dataset,\n",
    "\n",
    "*Variance* = \n",
    "\n",
    "~~~\n",
    "[(55–62.1)² + (56–62.1)² + (56–62.1)² + (58–62.1)² + (60-62.1)² + (61–62.1)² + (63–62.1)² + (64–62.1)² + (70–62.1)² +(78–62.1)²]/9.\n",
    "\n",
    "= 466.9/9\n",
    "\n",
    "= 51.88\n",
    "\n",
    "~~~"
   ]
  },
  {
   "cell_type": "markdown",
   "metadata": {
    "slideshow": {
     "slide_type": "subslide"
    }
   },
   "source": [
    "### Standard deviation\n",
    "It is simply the square root of the variance. In the above formula, σ is the standard deviation and σ2 is the variance. Hence, in this example the standard deviation is\n",
    "\n",
    "$\\sigma = \\sqrt{\\sigma^2}$\n",
    "\n",
    "$\\sqrt{51.88} = 7.20$"
   ]
  },
  {
   "cell_type": "markdown",
   "metadata": {
    "slideshow": {
     "slide_type": "subslide"
    }
   },
   "source": [
    "### Application\n",
    "\n",
    "\n",
    "- Write a function to calculate the variance of a dataset.\n",
    "- Write a function to calculate the standard deviation of a dataset using the variance function.\n"
   ]
  },
  {
   "cell_type": "code",
   "execution_count": 48,
   "metadata": {},
   "outputs": [],
   "source": [
    "def increase_mean(date, increase):\n",
    "    new_mean = calc_mean(data) + increase\n",
    "    print(new_mean)\n",
    "    return new_mean"
   ]
  },
  {
   "cell_type": "code",
   "execution_count": 49,
   "metadata": {},
   "outputs": [
    {
     "data": {
      "text/plain": [
       "51.87777777777777"
      ]
     },
     "execution_count": 49,
     "metadata": {},
     "output_type": "execute_result"
    }
   ],
   "source": [
    "from math import sqrt\n",
    "\n",
    "def calc_var(data):\n",
    "    mean = calc_mean(data)\n",
    "    return sum([(x - mean)**2 for x in data]) / (len(data) - 1)\n",
    "#     return sum(list(map(lambda point: (point - mean)**2, data))) / (len(data) - 1)\n",
    "\n",
    "calc_var(data)"
   ]
  },
  {
   "cell_type": "code",
   "execution_count": 50,
   "metadata": {},
   "outputs": [
    {
     "data": {
      "text/plain": [
       "7.2"
      ]
     },
     "execution_count": 50,
     "metadata": {},
     "output_type": "execute_result"
    }
   ],
   "source": [
    "def sd(data):\n",
    "    return round((sqrt(calc_var(data))), 2)\n",
    "\n",
    "sd(data)"
   ]
  },
  {
   "cell_type": "markdown",
   "metadata": {},
   "source": [
    "### List Comprehension\n",
    "\n",
    "\n",
    "List comprehension is an elegant way to define and create lists based on existing lists.\n",
    "\n",
    "**Syntax of List Comprehension**\n",
    "\n",
    "`[expression for item in list]`\n",
    "\n",
    "\n",
    "Let's take our list of data and create a new list where every data point is multiplied by 2."
   ]
  },
  {
   "cell_type": "code",
   "execution_count": 51,
   "metadata": {},
   "outputs": [
    {
     "data": {
      "text/plain": [
       "[110, 112, 112, 116, 120, 122, 126, 128, 140, 156]"
      ]
     },
     "execution_count": 51,
     "metadata": {},
     "output_type": "execute_result"
    }
   ],
   "source": [
    "[x*2 for x in data]"
   ]
  },
  {
   "cell_type": "markdown",
   "metadata": {
    "slideshow": {
     "slide_type": "slide"
    }
   },
   "source": [
    "## Measures of Association\n",
    "\n",
    "When we have two variables and we want to describe how the two are related to eachother."
   ]
  },
  {
   "cell_type": "markdown",
   "metadata": {
    "slideshow": {
     "slide_type": "subslide"
    }
   },
   "source": [
    "### Correlation\n",
    "\n",
    "Let’s say we have a dataset of height and weight of ten males. Normally we expect that the weight and height of a person are correlated, i.e. a taller person has more chances of having more weight than a short person. Correlation measures relationship between these kinds of data."
   ]
  },
  {
   "cell_type": "markdown",
   "metadata": {
    "slideshow": {
     "slide_type": "subslide"
    }
   },
   "source": [
    "### Co-variance\n",
    "One such measure is called co-variance, which measures how two variables vary with respect to each other. \n",
    "\n",
    "The population covariance $σ_{jk}$ between variables $j$ and $k$ can be estimated by the sample covariance. This can be calculated using the formula below:\n",
    "\n",
    "\n",
    "$$s_{jk} = \\frac{1}{n-1}\\sum_{i=1}^{n}(X_{ij}-\\bar{x}_j)(X_{ik}-\\bar{x}_k)=\\frac{\\sum_{i=1}^{n}X_{ij}X_{ik}-(\\sum_{i=1}^{n}X_{ij})(\\sum_{i=1}^{n}X_{ik})/n}{n-1}$$\n",
    "\n",
    "\n",
    "\n"
   ]
  },
  {
   "cell_type": "markdown",
   "metadata": {
    "slideshow": {
     "slide_type": "subslide"
    }
   },
   "source": [
    "### Positive & Negative Covariance.\n",
    "\n",
    "1) Positive covariance signifies that the higher values of one variable correspond with the higher values of the other variable, and similarly for the lower ones.\n",
    "\n",
    "2) Negative covariance, on the other hand, signifies that the higher values of one variable correspond to the lower values of the other.\n",
    "\n",
    "Hence the sign of the covariance therefore shows us the kind of linear relationship between two variables."
   ]
  },
  {
   "cell_type": "markdown",
   "metadata": {
    "slideshow": {
     "slide_type": "subslide"
    }
   },
   "source": [
    "#### Question:  \n",
    " What does a co-variance of 0 probably mean? - no relationship"
   ]
  },
  {
   "cell_type": "markdown",
   "metadata": {
    "slideshow": {
     "slide_type": "subslide"
    }
   },
   "source": [
    "### Correlation Coefficient\n",
    "The correlation coefficient is obtained by dividing the covariance by the product of the standard deviations of the two variables.  It is defined as,\n",
    "\n",
    "![correlation](correlation.jpeg)\n",
    "\n",
    "Or in our fancy notation it is: \n",
    "\n",
    "$$r_{jk}=\\frac{s_{jk}}{s_js_k}=\\frac{\\sum_{i=1}^{n}X_{ij}X_{ik}-(\\sum_{i=1}^{n}X_{ij})(\\sum_{i=1}^{n}X_{ik})/n}{\\sqrt{\\{\\sum_{i=1}^{n}X^2_{ij}-(\\sum_{i=1}^{n}X_{ij})^2/n\\}\\{\\sum_{i=1}^{n}X^2_{ik}-(\\sum_{i=1}^{n}X_{ik})^2/n\\}}}$$\n",
    "\n",
    "\n",
    "The values lie between +1 and -1.\n",
    "\n",
    "· +1 signifying a perfect increasing linear relationship (correlation).\n",
    "\n",
    "· -1 signifying a perfect decreasing linear relationship (anti-correlation)."
   ]
  },
  {
   "cell_type": "markdown",
   "metadata": {
    "slideshow": {
     "slide_type": "slide"
    }
   },
   "source": [
    "### Applied \n",
    "\n",
    "1. Write a function to calculate the covariance of a dataset.\n",
    "2. Write a function to calculate correlation using your functions for covariance and standard deviation."
   ]
  },
  {
   "cell_type": "code",
   "execution_count": 52,
   "metadata": {
    "slideshow": {
     "slide_type": "subslide"
    }
   },
   "outputs": [
    {
     "name": "stdout",
     "output_type": "stream",
     "text": [
      "['Weight', '241.893563180437', '162.310472521300', '212.7408555565', '220.042470303077']\n",
      "['Height', '73.847017017515', '68.7819040458903', '74.1101053917849', '71.7309784033377']\n"
     ]
    }
   ],
   "source": [
    "import csv\n",
    "with open('weight-height.csv') as csvfile:\n",
    "    readCSV = csv.reader(csvfile, delimiter=',')\n",
    "    \n",
    "    weights = []\n",
    "    heights = []\n",
    "    for row in readCSV:\n",
    "        weight = row[2]\n",
    "        height = row[1]\n",
    "\n",
    "        weights.append(weight)\n",
    "        heights.append(height)\n",
    "\n",
    "    print(weights[:5])\n",
    "    print(heights[:5])"
   ]
  },
  {
   "cell_type": "code",
   "execution_count": 53,
   "metadata": {},
   "outputs": [],
   "source": [
    "weights = weights[1:]\n",
    "heights = heights[1:]"
   ]
  },
  {
   "cell_type": "code",
   "execution_count": 57,
   "metadata": {},
   "outputs": [
    {
     "data": {
      "text/plain": [
       "114.2426564464631"
      ]
     },
     "execution_count": 57,
     "metadata": {},
     "output_type": "execute_result"
    }
   ],
   "source": [
    "def calc_cov(data1, data2):\n",
    "    mean1 = calc_mean(data1)\n",
    "    mean2 = calc_mean(data2)\n",
    "    covar_list = []\n",
    "    for i in range(len(data1)):\n",
    "        covar_list.append((float(data1[i]) - mean1) * (float(data2[i]) - mean2))\n",
    "    return sum(covar_list) / (len(data1) - 1)\n",
    "\n",
    "calc_cov(weights, heights)"
   ]
  },
  {
   "cell_type": "markdown",
   "metadata": {
    "slideshow": {
     "slide_type": "subslide"
    }
   },
   "source": [
    "#### Question\n",
    "\n",
    "Does correlation mean causation?"
   ]
  }
 ],
 "metadata": {
  "kernelspec": {
   "display_name": "Python 3",
   "language": "python",
   "name": "python3"
  },
  "language_info": {
   "codemirror_mode": {
    "name": "ipython",
    "version": 3
   },
   "file_extension": ".py",
   "mimetype": "text/x-python",
   "name": "python",
   "nbconvert_exporter": "python",
   "pygments_lexer": "ipython3",
   "version": "3.7.3"
  }
 },
 "nbformat": 4,
 "nbformat_minor": 2
}
