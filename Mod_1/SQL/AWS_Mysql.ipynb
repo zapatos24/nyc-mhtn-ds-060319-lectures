{
 "cells": [
  {
   "cell_type": "markdown",
   "metadata": {},
   "source": [
    "### Aim: Create a RDB instance on AWS and be able to connect to it through python\n",
    "\n",
    "- Step 1: Create an instance on AWS  https://aws.amazon.com/getting-started/tutorials/create-mysql-db/\n",
    "\n",
    "- Step 2. Download mysql workbench\n",
    "- Step 3. Connect mysqlworkbench to AWS\n",
    "- Step 4. Create table on AWS\n",
    "- Step 5. Open python notebook and import pymysql \n",
    "- Step 6. Create separate file with sensitive information and import it\n",
    "- Step 7. Connect to AWS using pymysql\n",
    "- Step 8. Insert data using Python\n",
    "- Step 9. Retrieve Data\n",
    "- Step 10. Delete AWS instance"
   ]
  },
  {
   "cell_type": "code",
   "execution_count": null,
   "metadata": {},
   "outputs": [],
   "source": []
  },
  {
   "cell_type": "code",
   "execution_count": 16,
   "metadata": {},
   "outputs": [],
   "source": [
    "\n",
    "from credentials import password, username\n"
   ]
  },
  {
   "cell_type": "code",
   "execution_count": 17,
   "metadata": {},
   "outputs": [],
   "source": [
    "import pymysql.cursors"
   ]
  },
  {
   "cell_type": "code",
   "execution_count": 19,
   "metadata": {},
   "outputs": [],
   "source": [
    "config = {\n",
    "  'user': username,\n",
    "  'password': password,\n",
    "  'host': 'flatironpract.cycgavlmx4or.us-east-1.rds.amazonaws.com',\n",
    "  'database': 'practice',\n",
    "}\n"
   ]
  },
  {
   "cell_type": "code",
   "execution_count": 20,
   "metadata": {},
   "outputs": [],
   "source": [
    "connection = pymysql.connect(**config)"
   ]
  },
  {
   "cell_type": "code",
   "execution_count": 22,
   "metadata": {},
   "outputs": [],
   "source": [
    "cur = connection.cursor()"
   ]
  },
  {
   "cell_type": "code",
   "execution_count": 25,
   "metadata": {},
   "outputs": [
    {
     "data": {
      "text/plain": [
       "1"
      ]
     },
     "execution_count": 25,
     "metadata": {},
     "output_type": "execute_result"
    }
   ],
   "source": [
    "cur.execute('show tables')"
   ]
  }
 ],
 "metadata": {
  "kernelspec": {
   "display_name": "Python 3",
   "language": "python",
   "name": "python3"
  },
  "language_info": {
   "codemirror_mode": {
    "name": "ipython",
    "version": 3
   },
   "file_extension": ".py",
   "mimetype": "text/x-python",
   "name": "python",
   "nbconvert_exporter": "python",
   "pygments_lexer": "ipython3",
   "version": "3.6.8"
  }
 },
 "nbformat": 4,
 "nbformat_minor": 2
}
