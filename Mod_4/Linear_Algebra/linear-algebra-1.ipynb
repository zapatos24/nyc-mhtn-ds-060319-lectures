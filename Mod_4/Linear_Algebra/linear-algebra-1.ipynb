{
 "cells": [
  {
   "cell_type": "markdown",
   "metadata": {
    "cell_style": "center",
    "slideshow": {
     "slide_type": "slide"
    }
   },
   "source": [
    "<img src= \"./resources/title.png\">\n",
    "\n",
    "### Contents:\n",
    "\n",
    "1. Why Linear Algebra?\n",
    "2. Data Types for Linear Algebra\n",
    "3. Operations on Vectors and Matrices\n",
    "    - Addition and Subtraction\n",
    "    - Broadcasting\n",
    "    - Multiplication (3 kinds)\n",
    "    - Division\n",
    "    "
   ]
  },
  {
   "cell_type": "markdown",
   "metadata": {
    "slideshow": {
     "slide_type": "slide"
    }
   },
   "source": [
    "# Part 1. Why Linear Algebra?\n",
    "\n",
    "Linear Algebra is the basis of many machine learning models.\n",
    "\n",
    "Data is usually already set up into a matrix by default!\n",
    "\n",
    "<img src= \"./resources/dataset.jpeg\">"
   ]
  },
  {
   "cell_type": "markdown",
   "metadata": {
    "slideshow": {
     "slide_type": "slide"
    }
   },
   "source": [
    "It can be used to model complicated things like language\n",
    "\n",
    "<img src = \"./resources/Word-Vectors.png\">"
   ]
  },
  {
   "cell_type": "markdown",
   "metadata": {
    "slideshow": {
     "slide_type": "slide"
    }
   },
   "source": [
    "Important for image compression and recognition\n",
    "\n",
    "<img src = \"./resources/images.gif\">"
   ]
  },
  {
   "cell_type": "markdown",
   "metadata": {
    "slideshow": {
     "slide_type": "slide"
    }
   },
   "source": [
    "Recommendation engines are able to make much more sophisticated recommendations by using linear algebra in conjunction with user and content data.\n",
    "\n",
    "<img src = \"./resources/netflix.png\">\n",
    "\n",
    "\n"
   ]
  },
  {
   "cell_type": "markdown",
   "metadata": {},
   "source": [
    "\n",
    "<img src=\"./resources/linalgmeme.png\" alt=\"drawing\" width=\"400\"/>"
   ]
  },
  {
   "cell_type": "markdown",
   "metadata": {},
   "source": [
    "# Part 2: Data Types for Linear Algebra\n",
    "\n",
    "<img src = \"./resources/datadogs.jpg\">\n",
    "\n",
    "* Scalars only have magnitude.\n",
    "\n",
    "* A vector is an array with **magnitude and direction**. The coordinates of a vector represent where the tip of the vector would be if you travelled from the origin, and the magnitude of a vector would be its length in space.\n",
    "\n",
    "* Matrices can be interpreted differently in different contexts but it's often used to represent multiple simultaneous vectors. \n",
    "\n",
    "* A vector or matrix can be multiplied by a scalar to create a change in **scale** and/or direction.\n",
    "\n",
    "* Tensors are made up of matrices with the same dimensions.\n",
    "\n",
    "Vectors, matrices and tensors are represented by NumPy arrays. **Not lists!!!** We can use `np.array.shape` to explore the dimensions of these data structures.\n"
   ]
  },
  {
   "cell_type": "code",
   "execution_count": 1,
   "metadata": {
    "scrolled": true
   },
   "outputs": [
    {
     "name": "stdout",
     "output_type": "stream",
     "text": [
      "[1 2 3 4 5 6]\n",
      "vector shape: (6,) \n",
      "\n",
      "[[1 2 3]\n",
      " [4 5 6]]\n",
      "matrix1 shape: (2, 3) \n",
      "\n",
      "[[1 2]\n",
      " [3 4]\n",
      " [5 6]]\n",
      "matrix2 shape: (3, 2) \n",
      "\n",
      "[[[1 2]\n",
      "  [3 4]]\n",
      "\n",
      " [[5 6]\n",
      "  [7 8]]]\n",
      "tensor shape: (2, 2, 2) \n",
      "\n"
     ]
    }
   ],
   "source": [
    "import numpy as np\n",
    "\n",
    "vector = np.array([1, 2, 3, 4, 5, 6])\n",
    "matrix1 = np.array([[1, 2, 3], [4, 5, 6]])\n",
    "matrix2 = np.array([[1, 2], [3, 4], [5, 6]])\n",
    "tensor = np.array([[[1, 2], [3, 4]], [[5, 6], [7, 8]]])\n",
    "\n",
    "print(vector)\n",
    "print('vector shape:', vector.shape, '\\n')\n",
    "print(matrix1)\n",
    "print('matrix1 shape:', matrix1.shape, '\\n')\n",
    "print(matrix2)\n",
    "print('matrix2 shape:', matrix2.shape, '\\n')\n",
    "print(tensor)\n",
    "print('tensor shape:', tensor.shape, '\\n')"
   ]
  },
  {
   "cell_type": "code",
   "execution_count": 2,
   "metadata": {},
   "outputs": [
    {
     "data": {
      "text/plain": [
       "array([[1, 2],\n",
       "       [3, 4]])"
      ]
     },
     "execution_count": 2,
     "metadata": {},
     "output_type": "execute_result"
    }
   ],
   "source": [
    "# mess around with indexing a tensor\n",
    "\n",
    "tensor[0]"
   ]
  },
  {
   "cell_type": "markdown",
   "metadata": {},
   "source": [
    "### Magnitude of a vector\n",
    "\n",
    "$length = \\|v \\| = \\sqrt{v \\cdot v} = (v_{1}^2 + v_{2}^2 + \\cdot \\cdot \\cdot \\cdot + v_{n}^2)$\n"
   ]
  },
  {
   "cell_type": "code",
   "execution_count": 3,
   "metadata": {},
   "outputs": [
    {
     "data": {
      "text/plain": [
       "9.539392014169456"
      ]
     },
     "execution_count": 3,
     "metadata": {},
     "output_type": "execute_result"
    }
   ],
   "source": [
    "np.linalg.norm(vector)"
   ]
  },
  {
   "cell_type": "markdown",
   "metadata": {},
   "source": [
    "### Transposing\n",
    "\n",
    "Calling `.transpose()` on an array **reverses** its shape order."
   ]
  },
  {
   "cell_type": "code",
   "execution_count": 4,
   "metadata": {},
   "outputs": [
    {
     "name": "stdout",
     "output_type": "stream",
     "text": [
      "[[1 2 3]\n",
      " [4 5 6]]\n",
      "matrix1 shape: (2, 3) \n",
      "\n",
      "[[1 4]\n",
      " [2 5]\n",
      " [3 6]] \n",
      "\n",
      "matrix1.transpose() shape: (3, 2)\n"
     ]
    }
   ],
   "source": [
    "print(matrix1)\n",
    "print('matrix1 shape:', matrix1.shape, '\\n')\n",
    "\n",
    "# transposed\n",
    "print(matrix1.transpose(), '\\n')\n",
    "print('matrix1.transpose() shape:', matrix1.transpose().shape)"
   ]
  },
  {
   "cell_type": "code",
   "execution_count": 7,
   "metadata": {},
   "outputs": [
    {
     "name": "stdout",
     "output_type": "stream",
     "text": [
      "[[[ 1  2  3]\n",
      "  [ 4  5  6]\n",
      "  [ 7  8  9]\n",
      "  [10 11 12]]\n",
      "\n",
      " [[13 14 15]\n",
      "  [16 17 18]\n",
      "  [19 20 21]\n",
      "  [22 23 24]]] \n",
      "\n",
      "shape of tensor2:  (2, 4, 3) \n",
      "\n",
      "[[[ 1  4  7 10]\n",
      "  [ 2  5  8 11]\n",
      "  [ 3  6  9 12]]\n",
      "\n",
      " [[13 16 19 22]\n",
      "  [14 17 20 23]\n",
      "  [15 18 21 24]]] \n",
      "\n",
      "shape of tensor2.transpose():  (2, 3, 4)\n"
     ]
    }
   ],
   "source": [
    "tensor2 = np.array([[[1, 2, 3], [4, 5, 6], [7, 8, 9], [10, 11, 12]], \n",
    "           [[13, 14, 15], [16, 17, 18], [19, 20, 21], [22, 23, 24]]])\n",
    "\n",
    "print(tensor2, '\\n')\n",
    "print('shape of tensor2: ', tensor2.shape, '\\n')\n",
    "\n",
    "# transposed\n",
    "print(tensor2.transpose(0,2,1), '\\n')\n",
    "print('shape of tensor2.transpose(): ', tensor2.transpose(0,2,1).shape)\n"
   ]
  },
  {
   "cell_type": "markdown",
   "metadata": {},
   "source": [
    "# Part 3: Operations on Vectors and Matrices\n",
    "\n",
    "## a. Addition & Subtraction\n",
    "\n",
    "For addition and subtraction of vectors, matrices and even tensors, as long as the dimensions are equal the operation occurs **element-wise**. This means given two vectors `v` and `w`:\n",
    "\n",
    "$ \\vec{v} = \\begin{bmatrix}v_{1} \\\\v_{2}\\end{bmatrix} $\n",
    "\n",
    "\n",
    "$ \\vec{w} = \\begin{bmatrix}w_{1} \\\\w_{2}\\end{bmatrix} $\n",
    "\n",
    "$ \\vec{v} + \\vec{w} = \\begin{bmatrix}v_{1} + w_{1} \\\\v_{2} + w_{2}\\end{bmatrix} $"
   ]
  },
  {
   "cell_type": "code",
   "execution_count": 9,
   "metadata": {},
   "outputs": [
    {
     "data": {
      "text/plain": [
       "array([-1,  2])"
      ]
     },
     "execution_count": 9,
     "metadata": {},
     "output_type": "execute_result"
    }
   ],
   "source": [
    "# numerical example \n",
    "\n",
    "v = np.array([2, 4])\n",
    "w = np.array([3, 2])\n",
    "v - w # what about v-w?\n",
    "# what does this look like graphically?"
   ]
  },
  {
   "cell_type": "markdown",
   "metadata": {},
   "source": [
    "## b. Broadcasting\n",
    "\n",
    "NumPy arrays allow for something known as **broadcasting**, which happens when you perform operations across arrays with different number of dimensions. NumPy makes duplicates of the lower-dimension array **as long as the higher-dimension array *contains* the same shape** in order to execute the operation. Order of the `.shape` tuple matters!"
   ]
  },
  {
   "cell_type": "code",
   "execution_count": 10,
   "metadata": {
    "scrolled": false
   },
   "outputs": [
    {
     "name": "stdout",
     "output_type": "stream",
     "text": [
      "[1 2 3 4 5 6]\n",
      "[ 5  6  7  8  9 10]\n"
     ]
    }
   ],
   "source": [
    "scalar = 4\n",
    "print(vector)\n",
    "\n",
    "print(vector + scalar)"
   ]
  },
  {
   "cell_type": "code",
   "execution_count": 11,
   "metadata": {},
   "outputs": [
    {
     "data": {
      "text/plain": [
       "array([[0, 2, 2],\n",
       "       [3, 5, 5]])"
      ]
     },
     "execution_count": 11,
     "metadata": {},
     "output_type": "execute_result"
    }
   ],
   "source": [
    "v1 = np.array([1, 0, 1])\n",
    "m1 = np.array([[1, 2, 3], [4, 5, 6]])\n",
    "m1 - v1"
   ]
  },
  {
   "cell_type": "markdown",
   "metadata": {},
   "source": [
    "What shapes of matrices and vectors can be broadcast onto `tensor2`?"
   ]
  },
  {
   "cell_type": "code",
   "execution_count": 12,
   "metadata": {},
   "outputs": [
    {
     "name": "stdout",
     "output_type": "stream",
     "text": [
      "[[[ 1  2  3]\n",
      "  [ 4  5  6]\n",
      "  [ 7  8  9]\n",
      "  [10 11 12]]\n",
      "\n",
      " [[13 14 15]\n",
      "  [16 17 18]\n",
      "  [19 20 21]\n",
      "  [22 23 24]]]\n"
     ]
    }
   ],
   "source": [
    "print(tensor2)"
   ]
  },
  {
   "cell_type": "code",
   "execution_count": 13,
   "metadata": {},
   "outputs": [],
   "source": [
    "# notes here: \n",
    "# scalar\n",
    "# vector 3 long\n",
    "# matrix 4x3"
   ]
  },
  {
   "cell_type": "markdown",
   "metadata": {},
   "source": [
    "## c. Multiplication\n",
    "\n",
    "### i. Hadamard Product\n",
    "\n",
    "Hadamard Multiplication occurs element-wise, and therefore can only occur between matrices of the same shape **OR** when broadcasting can occur. The Hadamard product is very easy in NumPy: just use `*`!\n",
    "\n",
    "\n",
    "\\begin{equation}\n",
    "\\begin{bmatrix}\n",
    "a_{1,1} & a_{1,2} \\\\\n",
    "a_{2,1} & a_{2,2}\n",
    "\\end{bmatrix}\n",
    "\\circ\n",
    "\\begin{bmatrix}\n",
    "b_{1,1} & b_{1,2} \\\\\n",
    "b_{2,1} & b_{2,2}\n",
    "\\end{bmatrix}\n",
    "=\n",
    "\\begin{bmatrix}\n",
    "a_{1,1}\\times b_{1,1} & a_{1,2}\\times b_{1,2} \\\\\n",
    "a_{2,1}\\times b_{2,1} & a_{2,2}\\times b_{2,2}\n",
    "\\end{bmatrix}\n",
    "\\end{equation}\n"
   ]
  },
  {
   "cell_type": "code",
   "execution_count": 15,
   "metadata": {},
   "outputs": [
    {
     "data": {
      "text/plain": [
       "array([[ 3,  8],\n",
       "       [ 5, 18]])"
      ]
     },
     "execution_count": 15,
     "metadata": {},
     "output_type": "execute_result"
    }
   ],
   "source": [
    "# Use NumPy to calculate the Hadamard product of\n",
    "# [[1, 2], [1, 2]] and [[3, 4], [5, 9]]\n",
    "\n",
    "# Your code here:\n",
    "a = np.array([[1,2], [1,2]])\n",
    "b = np.array([[3,4], [5,9]])\n",
    "a * b"
   ]
  },
  {
   "cell_type": "markdown",
   "metadata": {},
   "source": [
    "### ii. Dot Product\n",
    "\n",
    "Dot product is probably the most relevant kind of multiplication for our use cases. The dot product of matrices is also commonly known as **Matrix Multiplication**. Unless otherwise stated, _multiplication_ refers to this kind of multiplication.\n",
    "\n",
    "\n",
    "\\begin{equation}\n",
    "\\begin{bmatrix}\n",
    "a_{1,1} & a_{1,2} \\\\\n",
    "a_{2,1} & a_{2,2}\n",
    "\\end{bmatrix}\n",
    "\\times\n",
    "\\begin{bmatrix}\n",
    "b_{1,1} & b_{1,2} \\\\\n",
    "b_{2,1} & b_{2,2}\n",
    "\\end{bmatrix}\n",
    "=\n",
    "\\begin{bmatrix}\n",
    "a_{1,1}\\times b_{1,1} + a_{1,2}\\times b_{2,1} & a_{1,1}\\times b_{1,2} + a_{1,2}\\times b_{2,2} \\\\\n",
    "a_{2,1}\\times b_{1,1} + a_{2,2}\\times b_{2,1} & a_{2,1}\\times b_{1,2} + a_{2,2}\\times b_{2,2}\n",
    "\\end{bmatrix}\n",
    "\\end{equation}\n"
   ]
  },
  {
   "cell_type": "markdown",
   "metadata": {},
   "source": [
    "We take the **rows** (horizontal) of the first matrix and do an element-wise product with the **columns** (vertical) of the second matrix. With this rule, what are the shape restrictions to doing matrix multiplication?\n",
    "\n",
    "i.e. if we want to multiply matrices $A$ and $B$ where the dimensions of $A$ and $B$ are $m \\times n$ and $p \\times q$ respectively."
   ]
  },
  {
   "cell_type": "code",
   "execution_count": null,
   "metadata": {},
   "outputs": [],
   "source": [
    "# notes here!\n",
    "# \n",
    "# \n",
    "# "
   ]
  },
  {
   "cell_type": "markdown",
   "metadata": {
    "cell_style": "center"
   },
   "source": [
    "Using NumPy arrays, dot-multiply the matrices\n",
    "\\begin{bmatrix}\n",
    "3 & 2 \\\\\n",
    "5 & 7\n",
    "\\end{bmatrix}\n",
    "\\begin{bmatrix}\n",
    "2 & 4 \\\\\n",
    "3 & 10\n",
    "\\end{bmatrix}\n",
    "\n",
    "in the code-cell below using `np.dot()`. Look up the documentation! Remember that you need square brackets around the whole array!"
   ]
  },
  {
   "cell_type": "code",
   "execution_count": 18,
   "metadata": {
    "cell_style": "center"
   },
   "outputs": [
    {
     "data": {
      "text/plain": [
       "array([[12, 32],\n",
       "       [31, 90]])"
      ]
     },
     "execution_count": 18,
     "metadata": {},
     "output_type": "execute_result"
    }
   ],
   "source": [
    "# Your code here: \n",
    "c = np.array([[3,2], [5,7]])\n",
    "d = np.array([[2,4], [3, 10]])\n",
    "c.dot(d)"
   ]
  },
  {
   "cell_type": "markdown",
   "metadata": {},
   "source": [
    "Furthermore, $AB ≠ BA $  and $(AB)C ≠ A(BC)$."
   ]
  },
  {
   "cell_type": "markdown",
   "metadata": {},
   "source": [
    "### iii. Cross Product\n",
    "\n",
    "The cross product is used for more abstract applications of linear algebra and here we'll just define it for vectors.\n",
    "\n",
    "The result of the cross product of two vectors: $A \\times B = |A||B|sin( \\theta) n $\n",
    "- ($n$ is the unit vector perpendicular to the plane formed by the two vectors)\n",
    "- has a magnitude (length) equal to the area of the parallelogram formed by the two vectors\n",
    "- perpendicular to the plane formed by the two vectors\n",
    "- when you do a cross product, you lose a dimension\n"
   ]
  },
  {
   "cell_type": "markdown",
   "metadata": {},
   "source": [
    "## d. Division\n",
    "\n",
    "just kidding.\n",
    "\n",
    "### Inverses and the Identity Matrix\n",
    "\n",
    "It is **not** possible to divide by matrices (broadcasting still works element-wise). What we can do is find the **inverse** of a matrix. When a matrix is multiplied by its inverse, it results in the identity matrix. \n",
    "\n",
    "<img src = \"./resources/inverse.webp\">\n",
    "\n",
    "The order of multiplication does not matter for a matrix and its inverse:\n",
    "\n",
    "$A \\cdot A^{-1} = A^{-1} \\cdot A $\n",
    "\n",
    "An identity matrix is a square with a diagonal of 1's moving from left to right and the remaining numbers 0. When a matrix is multiplied by an identity matrix, it will result in the same matrix (think of it as the operational equivalent to 1 for linear algebra).\n",
    "\n",
    "<img src = \"./resources/identity_matrix.svg\">\n",
    "\n"
   ]
  },
  {
   "cell_type": "code",
   "execution_count": 19,
   "metadata": {
    "scrolled": true
   },
   "outputs": [
    {
     "name": "stdout",
     "output_type": "stream",
     "text": [
      "[[ 4  8 10]\n",
      " [ 3  9 12]\n",
      " [ 5 10 15]] \n",
      "\n",
      "[[1. 0. 0.]\n",
      " [0. 1. 0.]\n",
      " [0. 0. 1.]] \n",
      "\n",
      "[[ 4.  8. 10.]\n",
      " [ 3.  9. 12.]\n",
      " [ 5. 10. 15.]]\n"
     ]
    }
   ],
   "source": [
    "# showing the effect of multiplying by the identity matrix\n",
    "\n",
    "x = np.array([[4,8,10],[3,9,12],[5,10,15]])\n",
    "i_3 = np.identity(3)\n",
    "\n",
    "print(x, '\\n')\n",
    "print(i_3, '\\n')\n",
    "print(x.dot(i_3))"
   ]
  },
  {
   "cell_type": "code",
   "execution_count": 20,
   "metadata": {
    "scrolled": true
   },
   "outputs": [
    {
     "name": "stdout",
     "output_type": "stream",
     "text": [
      "[[ 5.00000000e-01 -6.66666667e-01  2.00000000e-01]\n",
      " [ 5.00000000e-01  3.33333333e-01 -6.00000000e-01]\n",
      " [-5.00000000e-01 -7.40148683e-17  4.00000000e-01]] \n",
      "\n",
      "[[ 1.  0.  0.]\n",
      " [-0.  1.  0.]\n",
      " [-0. -0.  1.]]\n"
     ]
    }
   ],
   "source": [
    "# inverse of x and multiplying by x\n",
    "\n",
    "inv_x = np.linalg.inv(x)\n",
    "print(inv_x, '\\n')\n",
    "\n",
    "print(np.round(x.dot(inv_x)))"
   ]
  },
  {
   "cell_type": "markdown",
   "metadata": {},
   "source": [
    "### Additional Resources\n",
    "* 3 Blue 1 Brown:  https://www.youtube.com/playlist?list=PLZHQObOWTQDPD3MizzM2xVFitgF8hE_a\n",
    "* Matrix approach to Linear Regression: http://www.stat.columbia.edu/~fwood/Teaching/w4315/Fall2009/lecture_11\n",
    "* [link to fun desmos interaction](https://www.desmos.com/calculator/yovo2ro9me)\n",
    "* [Link to good video on scalars and vectors](https://www.youtube.com/watch?v=fNk_zzaMoSs&list=PLZHQObOWTQDPD3MizzM2xVFitgF8hE_ab)\n",
    "* [What is X^T * X?](https://stats.stackexchange.com/questions/267948/intuitive-explanation-of-the-xtx-1-term-in-the-variance-of-least-square/267963)"
   ]
  }
 ],
 "metadata": {
  "kernelspec": {
   "display_name": "Python 3",
   "language": "python",
   "name": "python3"
  },
  "language_info": {
   "codemirror_mode": {
    "name": "ipython",
    "version": 3
   },
   "file_extension": ".py",
   "mimetype": "text/x-python",
   "name": "python",
   "nbconvert_exporter": "python",
   "pygments_lexer": "ipython3",
   "version": "3.7.3"
  },
  "toc": {
   "base_numbering": 1,
   "nav_menu": {},
   "number_sections": false,
   "sideBar": true,
   "skip_h1_title": false,
   "title_cell": "Table of Contents",
   "title_sidebar": "Contents",
   "toc_cell": false,
   "toc_position": {},
   "toc_section_display": true,
   "toc_window_display": false
  }
 },
 "nbformat": 4,
 "nbformat_minor": 2
}
