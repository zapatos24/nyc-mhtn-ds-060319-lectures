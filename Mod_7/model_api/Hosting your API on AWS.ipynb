{
 "cells": [
  {
   "cell_type": "markdown",
   "metadata": {},
   "source": [
    "<h1 style='text-align:center'>Hosting Your API on AWS</h1>"
   ]
  },
  {
   "cell_type": "markdown",
   "metadata": {},
   "source": [
    "Amazon offers services that allow us to use their computers to host our API. This allows other people to access our API at anytime from any computer connected to the internet. "
   ]
  },
  {
   "cell_type": "markdown",
   "metadata": {},
   "source": [
    "### Setting up AWS"
   ]
  },
  {
   "cell_type": "markdown",
   "metadata": {},
   "source": [
    "https://aws.amazon.com/  - Set up an account and log in "
   ]
  },
  {
   "cell_type": "markdown",
   "metadata": {},
   "source": [
    "We will be using Elastic Cloud Compute aka EC2: \n",
    "\n",
    "<b>Steps</b>\n",
    "1. Launch an instance (a virtual server) \n",
    "2. Connect to that instance via SSH (allows you to access the servers terminal from your computer) \n",
    "3. Upload your code onto the server and run it"
   ]
  },
  {
   "cell_type": "markdown",
   "metadata": {},
   "source": [
    "### 1. Launch an Instance"
   ]
  },
  {
   "cell_type": "markdown",
   "metadata": {},
   "source": [
    "<img src='images/select_ec2.png'/>"
   ]
  },
  {
   "cell_type": "markdown",
   "metadata": {},
   "source": [
    "<b> Click \"Launch Instance\" Button</b>"
   ]
  },
  {
   "cell_type": "markdown",
   "metadata": {},
   "source": [
    "1. Select which server OS you want to use. -  Ubuntu Server 18.04 is what I usually use. \n",
    "2. Select instance type (how many CPUs or GPUs) \n",
    "3. Click on Configure Security Group"
   ]
  },
  {
   "cell_type": "markdown",
   "metadata": {},
   "source": [
    "<img src='images/security_groups.png'/>"
   ]
  },
  {
   "cell_type": "markdown",
   "metadata": {},
   "source": [
    "4. Add rule of Type: HTTP, Port Range: 80, Source: Anywhere (SSH should be there by default)\n",
    "3. Click \"Review and Launch\"\n",
    "4. Launch\n",
    "5. Create and download key pair - this is your \"password\" to log into your instance (don't lose this) "
   ]
  },
  {
   "cell_type": "markdown",
   "metadata": {},
   "source": [
    "<img src ='images/key_pair.png' width='600px'/>"
   ]
  },
  {
   "cell_type": "markdown",
   "metadata": {},
   "source": [
    "### 2. Connect to Instance"
   ]
  },
  {
   "cell_type": "markdown",
   "metadata": {},
   "source": [
    "1. Return to EC2 Console via Services -> EC2\n",
    "2. Click on \"Running Instances\" \n",
    "3. Select the instance you created and click \"Connect\" \n",
    "4. Run the commands in your LOCAL terminal in the same directory that your {key_pair}.pem file is located\n"
   ]
  },
  {
   "cell_type": "markdown",
   "metadata": {},
   "source": [
    "<img src='images/connect.png' width='600px'/>"
   ]
  },
  {
   "cell_type": "markdown",
   "metadata": {},
   "source": [
    "<b>You're in! You can now interact with Amazon's server! </b>"
   ]
  },
  {
   "cell_type": "markdown",
   "metadata": {},
   "source": [
    "<img src='images/terminal.png'/>"
   ]
  },
  {
   "cell_type": "markdown",
   "metadata": {},
   "source": [
    "### 3. Upload Your Code and Run Your Server"
   ]
  },
  {
   "cell_type": "markdown",
   "metadata": {},
   "source": [
    "You can git clone your repository into this server or you can upload single files via the terminal. Since we have a simple script we will upload the single file."
   ]
  },
  {
   "cell_type": "markdown",
   "metadata": {},
   "source": [
    "Our server code is pretty much ready to be deployed to AWS but we need to make one small change so when we go to our instances ip address we are routed to the correct port (80). The default HTTP port is 80 so our server needs to be there. "
   ]
  },
  {
   "cell_type": "code",
   "execution_count": null,
   "metadata": {},
   "outputs": [],
   "source": [
    "#replace app.run() in our api file with this\n",
    "app.run(host='0.0.0.0', port=80)"
   ]
  },
  {
   "cell_type": "code",
   "execution_count": 5,
   "metadata": {
    "scrolled": true
   },
   "outputs": [
    {
     "name": "stdout",
     "output_type": "stream",
     "text": [
      "The authenticity of host 'ec2-52-14-97-73.us-east-2.compute.amazonaws.com (52.14.97.73)' can't be established.\n",
      "ECDSA key fingerprint is SHA256:KxV958SDtqSnU9KXuwSMiWorjzHVjZIfdCH9DbGtuDU.\n",
      "Are you sure you want to continue connecting (yes/no)? ^C\n"
     ]
    }
   ],
   "source": [
    "#run this in terminal to transfer your file to a specific folder in your server\n",
    "#run in the same folder as your .pem file and the file you want to transfer\n",
    "scp -i aws-lecture.pem api.py ubuntu@ec2-52-14-97-73.us-east-2.compute.amazonaws.com:~/"
   ]
  },
  {
   "cell_type": "markdown",
   "metadata": {},
   "source": [
    "Before running our server we need install the neccesary dependencies. Python 3 is install by default on Ubunutu but we need to install pip first and then the other dependencies (flask, numpy, etc.) "
   ]
  },
  {
   "cell_type": "code",
   "execution_count": null,
   "metadata": {},
   "outputs": [],
   "source": [
    "#code to run in terminal\n",
    "#install pip, dependencies and run server\n",
    "sudo apt-get update\n",
    "sudo apt install python3-pip\n",
    "pip3 install Flask numpy sklearn\n",
    "sudo python3 api.py"
   ]
  },
  {
   "cell_type": "markdown",
   "metadata": {},
   "source": [
    "Now we can send requests to our server. To find our server's domain look for the \"Public DNS (IPv4)\""
   ]
  },
  {
   "cell_type": "markdown",
   "metadata": {},
   "source": [
    "<img src='images/ip.png'/>"
   ]
  },
  {
   "cell_type": "code",
   "execution_count": 5,
   "metadata": {},
   "outputs": [],
   "source": [
    "import requests\n",
    "response = requests.post('http://ec2-52-14-97-73.us-east-2.compute.amazonaws.com/predict', data={'years':1})"
   ]
  },
  {
   "cell_type": "code",
   "execution_count": 6,
   "metadata": {},
   "outputs": [
    {
     "data": {
      "text/plain": [
       "{'predictions': 36162.13468715356}"
      ]
     },
     "execution_count": 6,
     "metadata": {},
     "output_type": "execute_result"
    }
   ],
   "source": [
    "response.json()"
   ]
  },
  {
   "cell_type": "code",
   "execution_count": 4,
   "metadata": {},
   "outputs": [
    {
     "data": {
      "text/plain": [
       "b'{\"predictions\":961410.4365562685}\\n'"
      ]
     },
     "execution_count": 4,
     "metadata": {},
     "output_type": "execute_result"
    }
   ],
   "source": [
    "import requests\n",
    "response = requests.post('http://127.0.0.1:5000/predict', data={'years':100})\n",
    "response.content"
   ]
  },
  {
   "cell_type": "code",
   "execution_count": null,
   "metadata": {},
   "outputs": [],
   "source": []
  }
 ],
 "metadata": {
  "kernelspec": {
   "display_name": "Python 3",
   "language": "python",
   "name": "python3"
  },
  "language_info": {
   "codemirror_mode": {
    "name": "ipython",
    "version": 3
   },
   "file_extension": ".py",
   "mimetype": "text/x-python",
   "name": "python",
   "nbconvert_exporter": "python",
   "pygments_lexer": "ipython3",
   "version": "3.7.3"
  }
 },
 "nbformat": 4,
 "nbformat_minor": 2
}
